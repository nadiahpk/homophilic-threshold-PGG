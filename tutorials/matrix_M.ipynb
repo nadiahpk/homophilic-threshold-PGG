{
 "cells": [
  {
   "cell_type": "markdown",
   "id": "adjacent-princess",
   "metadata": {},
   "source": [
    "# Convert from partition probabilities to n-relatedness\n",
    "\n",
    "$F_{n \\rightarrow \\mathbf{n}}$ is the probability that a group of size $n$ has family partition structure $\\mathbf{n} \\dashv \\: n$,\n",
    "where \n",
    "\n",
    "\\begin{equation}\n",
    "    \\mathbf{n} = (n_1, \\ldots n_k) \\quad \\text{such that} \\quad n_i, k \\in \\mathbb{N}, \\quad n_1 + \\ldots + n_k = n.\n",
    "\\end{equation}\n",
    "\n",
    "For example, if $\\mathbf{n} = (1, 1, 2, 4)$, then the group of 8 individuals has 2 families with 1 individual each (i.e., 1 common ancestor), one family with 2 individuals, and 1 family with 4 individuals. The $F_{n \\rightarrow \\mathbf{n}}$ probabilities are determined by the group-formation model.\n",
    "\n",
    "$\\theta_{l \\rightarrow m}$ is the probability that, \n",
    "if we draw $l$ individuals without replacement from the group,\n",
    "they will have $m$ common ancestors. These $n$-relatedness parameters are needed to determine the evolutionary dynamics of the population.\n",
    "\n",
    "The matrix $M$ is used to convert the partition probabilities $F_{n -> \\mathbf{n}}$ to the n-relatednesses parameters $\\theta_{l -> m}$. For example, in Appendix C of\n",
    "[Ohtsuki (2014)](https://royalsocietypublishing.org/doi/full/10.1098/rstb.2013.0359),\n",
    "a $10 \\times 5$ matrix is used to do the conversion for $n=4$.\n",
    "\n",
    "\\begin{equation}\n",
    "    \\begin{pmatrix}\n",
    "        \\theta_{1 \\rightarrow 1} \\\\\n",
    "        \\theta_{2 \\rightarrow 1} \\\\\n",
    "        \\theta_{2 \\rightarrow 2} \\\\\n",
    "        \\theta_{3 \\rightarrow 1} \\\\\n",
    "        \\theta_{3 \\rightarrow 2} \\\\\n",
    "        \\theta_{3 \\rightarrow 3} \\\\\n",
    "        \\theta_{4 \\rightarrow 1} \\\\\n",
    "        \\theta_{4 \\rightarrow 2} \\\\\n",
    "        \\theta_{4 \\rightarrow 3} \\\\\n",
    "        \\theta_{4 \\rightarrow 4} \\\\\n",
    "    \\end{pmatrix}\n",
    "    =\n",
    "    \\begin{pmatrix}\n",
    "         1      & 1     & 1     & 1     & 1     \\\\\n",
    "         0      & 1/6   & 1/2   & 1/3   & 1     \\\\\n",
    "         1      & 5/6   & 1/2   & 2/3   & 0     \\\\\n",
    "         0      & 0     & 1/4   & 0     & 1     \\\\\n",
    "         0      & 1/2   & 3/4   & 1     & 0     \\\\\n",
    "         1      & 1/2   & 0     & 0     & 0     \\\\\n",
    "         0      & 0     & 0     & 0     & 1     \\\\\n",
    "         0      & 0     & 1     & 1     & 0     \\\\\n",
    "         0      & 1     & 0     & 0     & 0     \\\\\n",
    "         1      & 0     & 0     & 0     & 0     \\\\\n",
    "    \\end{pmatrix}\n",
    "    \\begin{pmatrix}\n",
    "        F_{n \\rightarrow (1, 1, 1, 1)} \\\\\n",
    "        F_{n \\rightarrow (1, 1, 2)} \\\\\n",
    "        F_{n \\rightarrow (1, 3)} \\\\ \n",
    "        F_{n \\rightarrow (2, 2)} \\\\\n",
    "        F_{n \\rightarrow (4)} \\\\ \n",
    "    \\end{pmatrix}\n",
    "\\end{equation}"
   ]
  },
  {
   "cell_type": "markdown",
   "id": "defensive-compilation",
   "metadata": {},
   "source": [
    "The script in <code>/scripts/matrix_M/save_matrix_Ms.py</code> shows how the numerator and denominator of each element of $M$ can be calculated. The results are stored in <code>/results/matrix_M/</code> and can be conveniently read using the <code>read_matrix_M()</code> function."
   ]
  },
  {
   "cell_type": "code",
   "execution_count": 1,
   "id": "proprietary-quantity",
   "metadata": {},
   "outputs": [],
   "source": [
    "import sys\n",
    "sys.path.append('../functions/')\n",
    "from my_functions import read_matrix_M"
   ]
  },
  {
   "cell_type": "code",
   "execution_count": 2,
   "id": "controlling-harbor",
   "metadata": {},
   "outputs": [],
   "source": [
    "lm, nV, M_num, M_den = read_matrix_M('../results/matrix_M/matrix_M4.csv')"
   ]
  },
  {
   "cell_type": "markdown",
   "id": "danish-fraction",
   "metadata": {},
   "source": [
    "<code>lm</code> is a list of the possible $\\theta$ subscripts (i.e., the $l \\rightarrow m$)"
   ]
  },
  {
   "cell_type": "code",
   "execution_count": 3,
   "id": "direct-compensation",
   "metadata": {},
   "outputs": [
    {
     "data": {
      "text/plain": [
       "[(1, 1),\n",
       " (2, 1),\n",
       " (2, 2),\n",
       " (3, 1),\n",
       " (3, 2),\n",
       " (3, 3),\n",
       " (4, 1),\n",
       " (4, 2),\n",
       " (4, 3),\n",
       " (4, 4)]"
      ]
     },
     "execution_count": 3,
     "metadata": {},
     "output_type": "execute_result"
    }
   ],
   "source": [
    "lm"
   ]
  },
  {
   "cell_type": "markdown",
   "id": "dental-nowhere",
   "metadata": {},
   "source": [
    "<code>nV</code> is a list of the possible partitions of size $n=4$."
   ]
  },
  {
   "cell_type": "code",
   "execution_count": 5,
   "id": "arbitrary-review",
   "metadata": {},
   "outputs": [
    {
     "data": {
      "text/plain": [
       "[[1, 1, 1, 1], [1, 1, 2], [1, 3], [2, 2], [4]]"
      ]
     },
     "execution_count": 5,
     "metadata": {},
     "output_type": "execute_result"
    }
   ],
   "source": [
    "nV"
   ]
  },
  {
   "cell_type": "markdown",
   "id": "coastal-chick",
   "metadata": {},
   "source": [
    "The order of <code>lm</code> and <code>nV</code> gives the order of the rows and columns of the matrix $M$."
   ]
  },
  {
   "cell_type": "markdown",
   "id": "square-underground",
   "metadata": {},
   "source": [
    "<code>M_num</code> and <code>M_den</code> give the numerator and denominator of each entry in the matrix M."
   ]
  },
  {
   "cell_type": "code",
   "execution_count": 6,
   "id": "christian-property",
   "metadata": {},
   "outputs": [
    {
     "data": {
      "text/plain": [
       "array([[1, 1, 1, 1, 1],\n",
       "       [0, 1, 3, 2, 6],\n",
       "       [6, 5, 3, 4, 0],\n",
       "       [0, 0, 1, 0, 4],\n",
       "       [0, 2, 3, 4, 0],\n",
       "       [4, 2, 0, 0, 0],\n",
       "       [0, 0, 0, 0, 1],\n",
       "       [0, 0, 1, 1, 0],\n",
       "       [0, 1, 0, 0, 0],\n",
       "       [1, 0, 0, 0, 0]])"
      ]
     },
     "execution_count": 6,
     "metadata": {},
     "output_type": "execute_result"
    }
   ],
   "source": [
    "M_num"
   ]
  },
  {
   "cell_type": "code",
   "execution_count": 7,
   "id": "hairy-speaking",
   "metadata": {},
   "outputs": [
    {
     "data": {
      "text/plain": [
       "array([[1, 1, 1, 1, 1],\n",
       "       [6, 6, 6, 6, 6],\n",
       "       [6, 6, 6, 6, 6],\n",
       "       [4, 4, 4, 4, 4],\n",
       "       [4, 4, 4, 4, 4],\n",
       "       [4, 4, 4, 4, 4],\n",
       "       [1, 1, 1, 1, 1],\n",
       "       [1, 1, 1, 1, 1],\n",
       "       [1, 1, 1, 1, 1],\n",
       "       [1, 1, 1, 1, 1]])"
      ]
     },
     "execution_count": 7,
     "metadata": {},
     "output_type": "execute_result"
    }
   ],
   "source": [
    "M_den"
   ]
  },
  {
   "cell_type": "markdown",
   "id": "harmful-equivalent",
   "metadata": {},
   "source": [
    "The matrix $M$ can be reconstructed by an element-wise divide:"
   ]
  },
  {
   "cell_type": "code",
   "execution_count": 9,
   "id": "assisted-offer",
   "metadata": {},
   "outputs": [
    {
     "data": {
      "text/plain": [
       "array([[1.        , 1.        , 1.        , 1.        , 1.        ],\n",
       "       [0.        , 0.16666667, 0.5       , 0.33333333, 1.        ],\n",
       "       [1.        , 0.83333333, 0.5       , 0.66666667, 0.        ],\n",
       "       [0.        , 0.        , 0.25      , 0.        , 1.        ],\n",
       "       [0.        , 0.5       , 0.75      , 1.        , 0.        ],\n",
       "       [1.        , 0.5       , 0.        , 0.        , 0.        ],\n",
       "       [0.        , 0.        , 0.        , 0.        , 1.        ],\n",
       "       [0.        , 0.        , 1.        , 1.        , 0.        ],\n",
       "       [0.        , 1.        , 0.        , 0.        , 0.        ],\n",
       "       [1.        , 0.        , 0.        , 0.        , 0.        ]])"
      ]
     },
     "execution_count": 9,
     "metadata": {},
     "output_type": "execute_result"
    }
   ],
   "source": [
    "M = M_num / M_den\n",
    "M"
   ]
  },
  {
   "cell_type": "code",
   "execution_count": null,
   "id": "recent-standing",
   "metadata": {},
   "outputs": [],
   "source": []
  }
 ],
 "metadata": {
  "kernelspec": {
   "display_name": "Python 3",
   "language": "python",
   "name": "python3"
  },
  "language_info": {
   "codemirror_mode": {
    "name": "ipython",
    "version": 3
   },
   "file_extension": ".py",
   "mimetype": "text/x-python",
   "name": "python",
   "nbconvert_exporter": "python",
   "pygments_lexer": "ipython3",
   "version": "3.9.2"
  }
 },
 "nbformat": 4,
 "nbformat_minor": 5
}
